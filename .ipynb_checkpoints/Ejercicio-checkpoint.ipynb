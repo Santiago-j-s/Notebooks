{
 "metadata": {
  "name": "",
  "signature": "sha256:26a11a11aca2e51f2de424c6a86124f1f9b53c80ed06ab397c5610062605b9a8"
 },
 "nbformat": 3,
 "nbformat_minor": 0,
 "worksheets": [
  {
   "cells": [
    {
     "cell_type": "code",
     "collapsed": false,
     "input": [
      "import math"
     ],
     "language": "python",
     "metadata": {},
     "outputs": [],
     "prompt_number": 1
    },
    {
     "cell_type": "markdown",
     "metadata": {},
     "source": [
      "### Pasar 43\u00b020' a radianes."
     ]
    },
    {
     "cell_type": "code",
     "collapsed": false,
     "input": [
      "(43 + 20/60) * math.pi / 180"
     ],
     "language": "python",
     "metadata": {},
     "outputs": [
      {
       "metadata": {},
       "output_type": "pyout",
       "prompt_number": 2,
       "text": [
        "0.7563093425308761"
       ]
      }
     ],
     "prompt_number": 2
    },
    {
     "cell_type": "markdown",
     "metadata": {},
     "source": [
      "### Ahora c\u00e1lculo el seno de 0.756"
     ]
    },
    {
     "cell_type": "code",
     "collapsed": false,
     "input": [
      "math.sin(0.756)"
     ],
     "language": "python",
     "metadata": {},
     "outputs": [
      {
       "metadata": {},
       "output_type": "pyout",
       "prompt_number": 4,
       "text": [
        "0.6860165974349532"
       ]
      }
     ],
     "prompt_number": 4
    },
    {
     "cell_type": "markdown",
     "metadata": {},
     "source": [
      "### Multiplico por 1260, divido por 920"
     ]
    },
    {
     "cell_type": "code",
     "collapsed": false,
     "input": [
      "0.686 * 1260 / 920"
     ],
     "language": "python",
     "metadata": {},
     "outputs": [
      {
       "metadata": {},
       "output_type": "pyout",
       "prompt_number": 5,
       "text": [
        "0.9395217391304348"
       ]
      }
     ],
     "prompt_number": 5
    },
    {
     "cell_type": "markdown",
     "metadata": {},
     "source": [
      "### C\u00e1lculo el arcoseno"
     ]
    },
    {
     "cell_type": "code",
     "collapsed": false,
     "input": [
      "math.asin(0.9395)"
     ],
     "language": "python",
     "metadata": {},
     "outputs": [
      {
       "metadata": {},
       "output_type": "pyout",
       "prompt_number": 6,
       "text": [
        "1.2211677259116271"
       ]
      }
     ],
     "prompt_number": 6
    },
    {
     "cell_type": "markdown",
     "metadata": {},
     "source": [
      "### El resultado anterior esta en radianes, lo paso a grados sexagesimales"
     ]
    },
    {
     "cell_type": "code",
     "collapsed": false,
     "input": [
      "1.22 * 180 / math.pi"
     ],
     "language": "python",
     "metadata": {},
     "outputs": [
      {
       "metadata": {},
       "output_type": "pyout",
       "prompt_number": 7,
       "text": [
        "69.90085100596043"
       ]
      }
     ],
     "prompt_number": 7
    },
    {
     "cell_type": "markdown",
     "metadata": {},
     "source": [
      "### El resultado son aproximadamente 70\u00b0"
     ]
    }
   ],
   "metadata": {}
  }
 ]
}