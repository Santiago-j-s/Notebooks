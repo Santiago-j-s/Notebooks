{
 "metadata": {
  "name": "",
  "signature": "sha256:2be1d952bd221ec55f6085cd216ab07298aedfd09970839ae0054fec1416ef4d"
 },
 "nbformat": 3,
 "nbformat_minor": 0,
 "worksheets": [
  {
   "cells": [
    {
     "cell_type": "code",
     "collapsed": false,
     "input": [
      "import requests\n",
      "import lxml.html"
     ],
     "language": "python",
     "metadata": {},
     "outputs": [],
     "prompt_number": 1
    },
    {
     "cell_type": "markdown",
     "metadata": {},
     "source": [
      "#Loggeamos en la p\u00e1gina de estad\u00edstica"
     ]
    },
    {
     "cell_type": "code",
     "collapsed": false,
     "input": [
      "s = requests.Session()\n",
      "data = {}\n",
      "data['post_password'] = 'descriptiva'\n",
      "s.post('https://ingenieriaestadistica.wordpress.com/wp-login.php?action=postpass', data=data)"
     ],
     "language": "python",
     "metadata": {},
     "outputs": [
      {
       "metadata": {},
       "output_type": "pyout",
       "prompt_number": 2,
       "text": [
        "<Response [200]>"
       ]
      }
     ],
     "prompt_number": 2
    },
    {
     "cell_type": "markdown",
     "metadata": {},
     "source": [
      "#Obtenemos los archivos"
     ]
    },
    {
     "cell_type": "code",
     "collapsed": false,
     "input": [
      "page = s.get('https://ingenieriaestadistica.wordpress.com/material-didactico/')\n",
      "tree = lxml.html.fromstring(page.content)\n",
      "links = tree.body.iterlinks()\n",
      "gen = (link[2] for link in links if \".pdf\" in link[2])\n",
      "\n",
      "for i, link in enumerate(gen):\n",
      "    r = s.get(link)\n",
      "    with open(\"\".join([str(i), '.pdf']), 'xb') as f:\n",
      "        for chunk in r.iter_content(chunk_size=512 * 1024):\n",
      "            if chunk:\n",
      "                f.write(chunk)"
     ],
     "language": "python",
     "metadata": {},
     "outputs": [],
     "prompt_number": 21
    }
   ],
   "metadata": {}
  }
 ]
}