{
 "metadata": {
  "name": "",
  "signature": "sha256:e11bb2fc6c354c0ea347f7b2b463ca9c1920137c52c0ba75327bf5f792cbd784"
 },
 "nbformat": 3,
 "nbformat_minor": 0,
 "worksheets": [
  {
   "cells": [
    {
     "cell_type": "markdown",
     "metadata": {},
     "source": [
      "2a.\n",
      "\n",
      "\\begin{align}\n",
      "f(x) &= x - 3^{-x}\\\\\n",
      "\\\\\n",
      "f(0) &= -1\n",
      "\\\\\n",
      "f(1) &= 1 - 3^{-1} = 1 - 1/3 = 2/3\n",
      "\\\\\n",
      "\\end{align}\n",
      "\n",
      "Por teorema de Bolzano en el intervalo $ [0, 1] $ hay una ra\u00edz ya que $ f(0) < 0 $, $ f(1) > 0 $ y f(x) es continua en el intervalo [0, 1] (resta de funciones continuas en $ \\mathbb{R} $, una polin\u00f3mica y una exponencial)"
     ]
    },
    {
     "cell_type": "markdown",
     "metadata": {},
     "source": [
      "3b.\n",
      "\n",
      "$$\n",
      "\\frac{f(b)-f(a)}{b-a} = \\frac{1}{2} \\\\\n",
      "\\\\\n",
      "f(x) = \\frac{x\u00b2}{x+1} \\\\\n",
      "\\\\\n",
      "f(c) = \\frac{1}{2} \\\\\n",
      "\\\\\n",
      "\\frac{c\u00b2}{c+1} = \\frac{1}{2} \\\\\n",
      "\\\\\n",
      "c\u00b2 = \\frac{c}{2} + \\frac{1}{2} \\\\\n",
      "\\\\\n",
      "0 = -c\u00b2 + \\frac{c}{2} + \\frac{1}{2} \\\\\n",
      "\\\\\n",
      "\\frac{-\\frac{1}{2}\\pm\\sqrt{\\frac{1}{4}+2}}{-2} \\\\\n",
      "\\\\\n",
      "\\frac{-\\frac{1}{2}\\pm\\frac{3}{2}}{-2} \\\\\n",
      "\\\\\n",
      "c_1=-\\frac{1}{2} \\qquad c_2=1 \\\\\n",
      "$$\n",
      "\n",
      "7b.\n",
      "\n",
      "$$ \\lim_{n \\to \\infty} \\frac{2n\u00b2 + 6n + 1}{4n\u00b2 + 2n + 1}\\text{  es indeterminado }(\\frac{\\infty}{\\infty}) $$\n",
      "\n",
      "$$ \\text{Aplicando L'Hopital} $$\n",
      "\n",
      "\\begin{align}\n",
      "&\\lim_{n \\to \\infty} \\frac{2n\u00b2 + 6n + 1}{4n\u00b2 + 2n + 1} \\\\\n",
      "\\\\\n",
      "&=\\lim_{n \\to \\infty} \\frac{4n + 6}{8n + 2} \\\\\n",
      "\\\\\n",
      "&=\\lim_{n \\to \\infty} \\frac{4}{8} \\\\\n",
      "\\\\\n",
      "&=1/2 \\\\\n",
      "\\end{align}"
     ]
    },
    {
     "cell_type": "markdown",
     "metadata": {},
     "source": [
      "9.\n",
      "\n",
      "$$\n",
      "0.\\overline{3} = 0.3 + 0.03 + 0.003 + 0.0003 + ... \\\\\n",
      "\\\\\n",
      "0.\\overline{3} = \\frac{3}{10} + \\frac{3}{100} + \\frac{3}{100} + ... \\\\\n",
      "\\\\\n",
      "0.\\overline{3} = \\frac{3}{10^{1}} + \\frac{3}{10^{2}} + \\frac{3}{10^{3}} + ... \\\\\n",
      "\\\\\n",
      "0.\\overline{3} = \\sum\\limits_{i=1}^\\infty 3 * \\frac{1}{10^{n}} = \\sum\\limits_{i=1}^\\infty 3 * \\left(\\frac{1}{10} \\right)^{n} \\\\\n",
      "\\\\\n",
      "3 + \\sum\\limits_{i=1}^\\infty 3 * \\left(\\frac{1}{10} \\right)^{n} = \\sum\\limits_{i=0}^\\infty 3 * \\left(\\frac{1}{10} \\right)^{n} \\\\\n",
      "\\\\\n",
      "\\text{(El 3 lo obtuve evaluando la serie para } n = 0 \\text{)} \\\\\n",
      "$$\n",
      "$$\n",
      "\\sum\\limits_{i=1}^\\infty 3 * \\left(\\frac{1}{10} \\right)^{n} = \\frac{3}{1-0.1} - 3 = \\frac{3}{0.9} - 3 \\\\\n",
      "\\\\\n",
      "\\sum\\limits_{i=1}^\\infty 3 * \\left(\\frac{1}{10} \\right)^{n} = \\frac{10}{3} - 3 = \\frac{1}{3} \\\\\n",
      "\\\\\n",
      "\\text{Por tanto: }\\\\\n",
      "\\\\\n",
      "0.\\overline{3} = \\frac{1}{3} \\\\\n",
      "$$"
     ]
    }
   ],
   "metadata": {}
  }
 ]
}