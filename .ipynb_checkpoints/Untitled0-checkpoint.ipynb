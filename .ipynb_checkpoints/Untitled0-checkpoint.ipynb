{
 "metadata": {
  "name": "",
  "signature": "sha256:fde086ade053cee52da4ec0e73294a7960426e641e99186980f3a231b204e712"
 },
 "nbformat": 3,
 "nbformat_minor": 0,
 "worksheets": []
}