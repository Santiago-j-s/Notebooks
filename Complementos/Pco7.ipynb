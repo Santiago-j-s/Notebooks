{
 "metadata": {
  "name": "",
  "signature": "sha256:634f279daaf2f914f19bc84237655852ac5a7120137ce2f0692aa21980969fee"
 },
 "nbformat": 3,
 "nbformat_minor": 0,
 "worksheets": [
  {
   "cells": [
    {
     "cell_type": "code",
     "collapsed": false,
     "input": [
      "%matplotlib inline\n",
      "\n",
      "import numpy as np\n",
      "import matplotlib.pyplot as plt\n",
      "from matplotlib.patches import Polygon\n"
     ],
     "language": "python",
     "metadata": {},
     "outputs": [],
     "prompt_number": 26
    },
    {
     "cell_type": "markdown",
     "metadata": {},
     "source": [
      "# 5a\n",
      "\n",
      "$$ \\int_0^4 dx \\int_0^\\sqrt{16-x} \\sqrt{x^2 + y^2} dy $$\n",
      "\n",
      "## Recinto de integraci\u00f3n:\n",
      "\n",
      "Area delimitada por:\n",
      "* $ 0 $ y $ \\sqrt{16-x} $ en el eje $ y $\n",
      "* $ 0 $ y $ 4 $ en el eje $ x $"
     ]
    },
    {
     "cell_type": "code",
     "collapsed": false,
     "input": [
      "def f(x):\n",
      "    return np.sqrt(16 - np.square(x))\n",
      "\n",
      "x = np.linspace(-6, 6, 1000)\n",
      "y = f(x)\n",
      "\n",
      "fig, ax = plt.subplots()\n",
      "fig.set_size_inches(5, 5)\n",
      "fig.suptitle('Recinto de integraci\u00f3n')\n",
      "\n",
      "plt.axis([-4, 4, -4, 4])\n",
      "plt.grid()\n",
      "plt.axhline(c='k')\n",
      "plt.axvline(c='k')\n",
      "\n",
      "plt.plot(x, y, linewidth=2)\n",
      "\n",
      "# Shaded regi\u00f3n\n",
      "a, b = 0, 4\n",
      "ix = np.linspace(a, b)\n",
      "iy = f(ix)\n",
      "verts = [(a, 0)] + list(zip(ix, iy)) + [(b, 0)]\n",
      "poly = Polygon(verts, facecolor='0.9', edgecolor='0.5')\n",
      "ax.add_patch(poly)\n",
      "\n",
      "plt.show()"
     ],
     "language": "python",
     "metadata": {},
     "outputs": [
      {
       "metadata": {},
       "output_type": "display_data",
       "png": "[encoded data removed]",
       "text": [
        "<matplotlib.figure.Figure at 0x7f3c0b531048>"
       ]
      }
     ],
     "prompt_number": 28
    },
    {
     "cell_type": "markdown",
     "metadata": {},
     "source": [
      "## En coordenadas polares:\n",
      "\n",
      "### L\u00edmites de integraci\u00f3n\n",
      "$$ r_\\text{max} = 4 $$\n",
      "\n",
      "$$ \\theta_\\text{max} = \\frac{\\pi}{2} $$\n",
      "\n",
      "### Substituci\u00f3n de x e y\n",
      "$$ \\sqrt{x^2 + y^2} = \\sqrt{(r \\cos{\\theta})^2 + (r \\sin{\\theta})^2} $$\n",
      "\n",
      "$$ \\sqrt{x^2 + y^2} = 1 $$\n",
      "\n",
      "### Integral resultante\n",
      "$$ \\int_0^\\frac{\\pi}{2} d\\theta \\int_0^4 rdr $$\n"
     ]
    }
   ],
   "metadata": {}
  }
 ]
}