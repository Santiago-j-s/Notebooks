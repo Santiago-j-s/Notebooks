{
 "metadata": {
  "name": "",
  "signature": "sha256:1fdb9ede2bfc71507b64dd6d2364d60ad880eeb0fe4f8d10a78a295ba116b9d8"
 },
 "nbformat": 3,
 "nbformat_minor": 0,
 "worksheets": [
  {
   "cells": [
    {
     "cell_type": "code",
     "collapsed": false,
     "input": [
      "import numpy as np\n",
      "import numpy.linalg as la"
     ],
     "language": "python",
     "metadata": {},
     "outputs": [],
     "prompt_number": 1
    },
    {
     "cell_type": "code",
     "collapsed": false,
     "input": [
      "A = np.array([[3, -2,  1, -1],\n",
      "              [0,  4, -1,  2],\n",
      "              [0,  0,  2,  3],\n",
      "              [0,  0,  0,  5],])\n",
      "\n",
      "b = np.array([8, -3, 11, 15])\n",
      "\n",
      "x = la.solve(A, b)\n",
      "print(x)"
     ],
     "language": "python",
     "metadata": {},
     "outputs": [
      {
       "output_type": "stream",
       "stream": "stdout",
       "text": [
        "[ 2. -2.  1.  3.]\n"
       ]
      }
     ],
     "prompt_number": 2
    }
   ],
   "metadata": {}
  }
 ]
}