{
 "metadata": {
  "name": "",
  "signature": "sha256:8ec1e4ce7ec652784971b13f5a10e6ae124c7628459db9f68057a4b4525c4bb9"
 },
 "nbformat": 3,
 "nbformat_minor": 0,
 "worksheets": [
  {
   "cells": [
    {
     "cell_type": "code",
     "collapsed": false,
     "input": [
      "import numpy as np"
     ],
     "language": "python",
     "metadata": {},
     "outputs": [],
     "prompt_number": 1
    },
    {
     "cell_type": "code",
     "collapsed": false,
     "input": [
      "def f(x):\n",
      "    return (3 * x * np.e ** x) - (2 * np.e ** x)\n",
      "    \n",
      "y0 = f(1)\n",
      "y1 = f(1.05)\n",
      "y2 = f(1.07)\n",
      "    \n",
      "print('f(x0): {:f}'.format(y1))\n",
      "print('f(x1): {:f}'.format(y2))\n",
      "print('f(x2): {:f}'.format(y3))"
     ],
     "language": "python",
     "metadata": {},
     "outputs": [
      {
       "output_type": "stream",
       "stream": "stdout",
       "text": [
        "f(x1): 2.718282\n",
        "f(x2): 3.286299\n",
        "f(x3): 3.527609\n"
       ]
      }
     ],
     "prompt_number": 15
    },
    {
     "cell_type": "markdown",
     "metadata": {},
     "source": [
      "| x    | y    |\n",
      "|------|------|\n",
      "| 1    | 2.71 |\n",
      "| 1.05 | 3.29 |\n",
      "| 1.07 | 3.53 |\n",
      "\n",
      "$$ l0 = \\frac{(x - 1.05)(x - 1.07)}{(1 - 1.05)(1 - 1.07)} $$\n",
      "$$ l1 = \\frac{(x - 1)(x - 1.07)}{(1.05 - 1)(1.05 - 1.07)} $$\n",
      "$$ l2 = \\frac{(x - 1)(x - 1.05)}{(1.07 - 1)(1.07 - 1.05)} $$\n",
      "\n",
      "$$ p(x) = 2.71 * l0 + 3.29 * l1 + 1.07 * l2 $$"
     ]
    }
   ],
   "metadata": {}
  }
 ]
}