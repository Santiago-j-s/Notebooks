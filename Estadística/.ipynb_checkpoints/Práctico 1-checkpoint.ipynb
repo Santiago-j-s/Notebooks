{
 "metadata": {
  "name": "",
  "signature": "sha256:6f849981d15eca2b8364da2b84873d5b3aef00440302ad9481486d4767536fb3"
 },
 "nbformat": 3,
 "nbformat_minor": 0,
 "worksheets": [
  {
   "cells": [
    {
     "cell_type": "code",
     "collapsed": false,
     "input": [
      "%matplotlib inline\n",
      "\n",
      "import numpy as np\n",
      "import pandas as pd\n",
      "import matplotlib.pyplot as plt\n",
      "import math\n",
      "\n",
      "plt.style.use('ggplot')"
     ],
     "language": "python",
     "metadata": {},
     "outputs": [],
     "prompt_number": 2
    },
    {
     "cell_type": "markdown",
     "metadata": {},
     "source": [
      "###5. Construya un diagrama de tallo-hojas a partir de los siguientes tiempos de reacci\u00f3n de personas entrenadas (en c\u00e9ntesimas de segundo):"
     ]
    },
    {
     "cell_type": "code",
     "collapsed": false,
     "input": [
      "datos = pd.DataFrame(data={'reaction times': [\n",
      "                           17, 79, 81, 64, 83, 89, 67, 78, 71, 10,\n",
      "                           34, 76, 41, 75, 80, 32, 82, 60, 54, 52,\n",
      "                           70, 98, 90, 80, 62, 85, 77, 60, 95, 23]})\n",
      "\n",
      "tallo_hojas = [list() for n in range(10)]\n",
      "\n",
      "for num in datos.values:\n",
      "    tallo = int(math.floor(num / 10.0))\n",
      "    hoja = num[0] % 10\n",
      "    tallo_hojas[tallo].append(hoja)\n",
      "\n",
      "for tallo, hojas in enumerate(tallo_hojas):\n",
      "    print(tallo, end=' | ')\n",
      "    hojas.sort()\n",
      "    for dato in hojas:\n",
      "        print(dato, end=' ')\n",
      "    print()\n",
      "    \n",
      "plt.plot(datos['reaction times'], np.zeros(30), 'bo', )\n",
      "plt.axis('off')\n",
      "plt.grid(True, axis='x')\n",
      "plt.axis(xmin=0, xmax=100)"
     ],
     "language": "python",
     "metadata": {},
     "outputs": [
      {
       "output_type": "stream",
       "stream": "stdout",
       "text": [
        "0 | \n",
        "1 | 0 7 \n",
        "2 | 3 \n",
        "3 | 2 4 \n",
        "4 | 1 \n",
        "5 | 2 4 \n",
        "6 | 0 0 2 4 7 \n",
        "7 | 0 1 5 6 7 8 9 \n",
        "8 | 0 0 1 2 3 5 9 \n",
        "9 | 0 5 8 \n"
       ]
      },
      {
       "metadata": {},
       "output_type": "pyout",
       "prompt_number": 14,
       "text": [
        "(0, 100, -0.059999999999999998, 0.059999999999999998)"
       ]
      },
      {
       "metadata": {},
       "output_type": "display_data",
       "png": "[encoded data removed]",
       "text": [
        "<matplotlib.figure.Figure at 0x7f1cb1493ba8>"
       ]
      }
     ],
     "prompt_number": 14
    },
    {
     "cell_type": "code",
     "collapsed": false,
     "input": [],
     "language": "python",
     "metadata": {},
     "outputs": [],
     "prompt_number": 2
    }
   ],
   "metadata": {}
  }
 ]
}