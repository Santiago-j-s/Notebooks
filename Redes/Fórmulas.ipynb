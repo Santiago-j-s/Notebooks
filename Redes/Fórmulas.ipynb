{
 "cells": [
  {
   "cell_type": "markdown",
   "metadata": {},
   "source": [
    "### Aloha\n",
    "\n",
    "$t_m$: Tiempo de marco de longitud fija\n",
    "\n",
    "$P(k)$: Probabilidad de $k$ intentos de transmisión sobre $tm$ (retx de viejos y nuevos) es de tipo Poisson, con media $G$ [intentos de $tx/tm$].\n",
    "\n",
    "$$ P(k) = \\dfrac{G^k*e^{-g}}{k!} $$\n",
    "\n",
    "$P_0$: Probabilidad de que una trama no sufra colisión.\n",
    "\n",
    "$$ P_0 = e^{-g} * e^{-g} = e^{-2g} $$\n",
    "\n",
    "$$ \\text{ ya que } $$\n",
    "\n",
    "$$ t_\\text{vulnerable} = 2t_m $$\n",
    "\n",
    "$S$: Tramas transmitidas efectivamente por tiempo de marco [$\\text{tramas}/t_m$]\n",
    "\n",
    "$$ S = G * P_0 $$\n",
    "\n",
    "$$ S = G * e^{-2g} $$\n",
    "\n",
    "$$ S_{max | G=0.5} = \\dfrac{1}{2e} \\approx 0.184 $$\n",
    "\n",
    "Máximo uso del canal del $18.4\\%$\n",
    "\n",
    "### Aloha Ranurado\n",
    "\n",
    "$$ t_\\text{vulnerable} = t_m $$\n",
    "\n",
    "$$ P_0 = e^{-g} $$\n",
    "\n",
    "$$ S = G * e^{-g} $$\n",
    "\n",
    "$$ S_{max | G=1} = \\dfrac{1}{e} \\approx 0.368 $$\n",
    "\n",
    "Máximo uso del canal del $36.8\\%$\n",
    "\n",
    "### CSMA/CD\n",
    "\n",
    "Mínimo tiempo de trama = $ 2 \\tau $\n",
    "\n",
    "### Token Ring\n",
    "\n",
    "$$ L_{\\text{max}|\\text{trama}} = T_{\\text{token}} * Rb $$\n",
    "\n",
    "$$ T_{\\text{max}|\\text{token}} = v_{\\text{propagación}} * L_{\\text{anillo}} $$\n",
    "\n",
    "### Cálculo de RTT (Jacobson)\n",
    "\n",
    "$$ RTT_i = \\alpha RTT_{i-1} + (1 - \\alpha) * M_i $$\n",
    "\n",
    "$$ RTO_i = RTT_i + 4D_i $$\n",
    "\n",
    "$$ D_i = \\alpha * D_{i-1} + (1 - \\alpha) * | RTT_{i-1} - M_i | $$"
   ]
  },
  {
   "cell_type": "code",
   "execution_count": 1,
   "metadata": {
    "collapsed": false
   },
   "outputs": [
    {
     "data": {
      "text/plain": [
       "56.715"
      ]
     },
     "execution_count": 1,
     "metadata": {},
     "output_type": "execute_result"
    }
   ],
   "source": [
    "def rti(a, rti, mi):\n",
    "    return a * rti + (1-a) * mi\n",
    "\n",
    "def d(a, di, rti, mi):\n",
    "    return a * di + (1 - a) * abs(rti - mi)\n",
    "\n",
    "def rto(rti, di):\n",
    "    return rti + 4*di\n",
    "    \n",
    "rto(42.34, 3.59375)"
   ]
  }
 ],
 "metadata": {
  "kernelspec": {
   "display_name": "Python 3",
   "language": "python",
   "name": "python3"
  },
  "language_info": {
   "codemirror_mode": {
    "name": "ipython",
    "version": 3
   },
   "file_extension": ".py",
   "mimetype": "text/x-python",
   "name": "python",
   "nbconvert_exporter": "python",
   "pygments_lexer": "ipython3",
   "version": "3.5.2"
  }
 },
 "nbformat": 4,
 "nbformat_minor": 0
}
