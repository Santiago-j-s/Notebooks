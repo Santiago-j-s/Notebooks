{
 "metadata": {
  "name": "",
  "signature": "sha256:dc5d50ef7eeefec0d6e42d0f932debce70be322c2e8d6c6bc17a54ff7c7ddfd5"
 },
 "nbformat": 3,
 "nbformat_minor": 0,
 "worksheets": [
  {
   "cells": [
    {
     "cell_type": "markdown",
     "metadata": {},
     "source": [
      "### Aloha\n",
      "\n",
      "$t_m$: Tiempo de marco de longitud fija\n",
      "\n",
      "$P(k)$: Probabilidad de $k$ intentos de transmisi\u00f3n sobre $tm$ (retx de viejos y nuevos) es de tipo Poisson, con media $G$ [intentos de $tx/tm$].\n",
      "\n",
      "$$ P(k) = \\dfrac{G^k*e^{-g}}{k!} $$\n",
      "\n",
      "$P_0$: Probabilidad de que una trama no sufra colisi\u00f3n.\n",
      "\n",
      "$$ P_0 = e^{-g} * e^{-g} = e^{-2g} $$\n",
      "\n",
      "$$ \\text{ ya que } $$\n",
      "\n",
      "$$ t_\\text{vulnerable} = 2t_m $$\n",
      "\n",
      "$S$: Tramas transmitidas efectivamente por tiempo de marco [$\\text{tramas}/t_m$]\n",
      "\n",
      "$$ S = G * P_0 $$\n",
      "\n",
      "$$ S = G * e^{-2g} $$\n",
      "\n",
      "$$ S_{max | G=0.5} = \\dfrac{1}{2e} \\approx 0.184 $$\n",
      "\n",
      "M\u00e1ximo uso del canal del $18.4\\%$\n",
      "\n",
      "### Aloha Ranurado\n",
      "\n",
      "$$ t_\\text{vulnerable} = t_m $$\n",
      "\n",
      "$$ P_0 = e^{-g} $$\n",
      "\n",
      "$$ S = G * e^{-g} $$\n",
      "\n",
      "$$ S_{max | G=1} = \\dfrac{1}{e} \\approx 0.368 $$\n",
      "\n",
      "M\u00e1ximo uso del canal del $36.8\\%$\n",
      "\n",
      "### CSMA/CD\n",
      "\n",
      "M\u00ednimo tiempo de trama = $ 2 \\tau $\n",
      "\n",
      "### Token Ring\n",
      "\n",
      "$$ L_{\\text{max}|\\text{trama}} = T_{\\text{token}} * Rb $$\n",
      "\n",
      "$$ T_{\\text{max}|\\text{token}} = v_{\\text{propagaci\u00f3n}} * L_{\\text{anillo}} $$\n",
      "\n",
      "### C\u00e1lculo de RTT (Jacobson)\n",
      "\n",
      "$$ RTT_i = \\alpha RTT_{i-1} + (1 - \\alpha) * M_i $$\n",
      "\n",
      "$$ RTO_i = RTT_i + 4D_i $$\n",
      "\n",
      "$$ D_i = \\alpha * D_{i-1} + (1 - \\alpha) * | RTT_{i-1} - M_i | $$"
     ]
    },
    {
     "cell_type": "code",
     "collapsed": false,
     "input": [
      "def rti(a, rti, mi):\n",
      "    return a * rti + (1-a) * mi\n",
      "\n",
      "def d(a, di, rti, mi):\n",
      "    return a * di + (1 - a) * abs(rti - mi)\n",
      "\n",
      "def rto(rti, di):\n",
      "    return rti + 4*di\n",
      "    \n",
      "rto(42.34, 3.59375)"
     ],
     "language": "python",
     "metadata": {},
     "outputs": [
      {
       "metadata": {},
       "output_type": "pyout",
       "prompt_number": 21,
       "text": [
        "56.715"
       ]
      }
     ],
     "prompt_number": 21
    }
   ],
   "metadata": {}
  }
 ]
}