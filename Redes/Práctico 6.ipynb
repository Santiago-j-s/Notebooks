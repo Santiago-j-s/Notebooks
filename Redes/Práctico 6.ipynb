{
 "cells": [
  {
   "cell_type": "markdown",
   "metadata": {},
   "source": [
    "#Práctico 6"
   ]
  },
  {
   "cell_type": "markdown",
   "metadata": {},
   "source": [
    "1. CAPA DE TRANSPORTE\n",
    "* Escoge trayectorias adecuadas (F)\n",
    "* Se ocupa de la transmisión de bits por el canal de tranmisión (F)\n",
    "* Es clave para entender los protocolos en capas (V)\n",
    "* Limite principal entre usuario y proveedor (V)\n",
    "* Maneja problemas de interconexión entre redes diferentes (F)\n",
    "* Se maneja mediante primitivas de servicios (V)"
   ]
  },
  {
   "cell_type": "markdown",
   "metadata": {},
   "source": [
    "2. FUNCIONES DE LA CAPA DE TRANSPORTE\n",
    "* (V)\n",
    "* (F)\n",
    "* (V)"
   ]
  },
  {
   "cell_type": "markdown",
   "metadata": {},
   "source": [
    "3. TIPOS DE SERVICIOS\n",
    "* V\n",
    "* V\n",
    "* F"
   ]
  },
  {
   "cell_type": "markdown",
   "metadata": {},
   "source": [
    "4. Esquemas de direccionamiento \n",
    "* V\n",
    "* F\n",
    "* V\n",
    "* V\n",
    "* V"
   ]
  },
  {
   "cell_type": "markdown",
   "metadata": {},
   "source": [
    "5. Protocolos de Transporte\n",
    "* F\n",
    "* V\n",
    "* F\n",
    "* V"
   ]
  },
  {
   "cell_type": "markdown",
   "metadata": {},
   "source": [
    "6. Direccionamiento en protocolos de transporte\n",
    "* V\n",
    "* F\n",
    "* F\n",
    "* V\n",
    "* F\n",
    "* V"
   ]
  },
  {
   "cell_type": "markdown",
   "metadata": {},
   "source": [
    "7. Administración de conexiones\n",
    "* F\n",
    "* V\n",
    "* F\n",
    "* V"
   ]
  },
  {
   "cell_type": "markdown",
   "metadata": {},
   "source": [
    "8. \n",
    "Ascendente"
   ]
  }
 ],
 "metadata": {
  "kernelspec": {
   "display_name": "Python 3",
   "language": "python",
   "name": "python3"
  },
  "language_info": {
   "codemirror_mode": {
    "name": "ipython",
    "version": 3
   },
   "file_extension": ".py",
   "mimetype": "text/x-python",
   "name": "python",
   "nbconvert_exporter": "python",
   "pygments_lexer": "ipython3",
   "version": "3.5.2"
  }
 },
 "nbformat": 4,
 "nbformat_minor": 0
}
