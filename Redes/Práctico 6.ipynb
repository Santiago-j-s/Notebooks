{
 "metadata": {
  "name": "",
  "signature": "sha256:37924586649d8440058ce6e4f13ca97a8984fddb5b3b14ff8d37897efb16c2dc"
 },
 "nbformat": 3,
 "nbformat_minor": 0,
 "worksheets": [
  {
   "cells": [
    {
     "cell_type": "markdown",
     "metadata": {},
     "source": [
      "#Pr\u00e1ctico 6"
     ]
    },
    {
     "cell_type": "markdown",
     "metadata": {},
     "source": [
      "1. CAPA DE TRANSPORTE\n",
      "* Escoge trayectorias adecuadas (F)\n",
      "* Se ocupa de la transmisi\u00f3n de bits por el canal de tranmisi\u00f3n (F)\n",
      "* Es clave para entender los protocolos en capas (V)\n",
      "* Limite principal entre usuario y proveedor (V)\n",
      "* Maneja problemas de interconexi\u00f3n entre redes diferentes (F)\n",
      "* Se maneja mediante primitivas de servicios (V)"
     ]
    },
    {
     "cell_type": "markdown",
     "metadata": {},
     "source": [
      "2. FUNCIONES DE LA CAPA DE TRANSPORTE\n",
      "* (V)\n",
      "* (F)\n",
      "* (V)"
     ]
    },
    {
     "cell_type": "markdown",
     "metadata": {},
     "source": [
      "3. TIPOS DE SERVICIOS\n",
      "* V\n",
      "* V\n",
      "* F"
     ]
    },
    {
     "cell_type": "markdown",
     "metadata": {},
     "source": [
      "4. Esquemas de direccionamiento \n",
      "* V\n",
      "* F\n",
      "* V\n",
      "* V\n",
      "* V"
     ]
    },
    {
     "cell_type": "markdown",
     "metadata": {},
     "source": [
      "5. Protocolos de Transporte\n",
      "* F\n",
      "* V\n",
      "* F\n",
      "* V"
     ]
    },
    {
     "cell_type": "markdown",
     "metadata": {},
     "source": [
      "6. Direccionamiento en protocolos de transporte\n",
      "* V\n",
      "* F\n",
      "* F\n",
      "* V\n",
      "* F\n",
      "* V"
     ]
    },
    {
     "cell_type": "markdown",
     "metadata": {},
     "source": [
      "7. Administraci\u00f3n de conexiones\n",
      "* F\n",
      "* V\n",
      "* F\n",
      "* V"
     ]
    },
    {
     "cell_type": "markdown",
     "metadata": {},
     "source": [
      "8. \n",
      "Ascendente"
     ]
    }
   ],
   "metadata": {}
  }
 ]
}