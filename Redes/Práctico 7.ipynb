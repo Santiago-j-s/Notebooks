{
 "cells": [
  {
   "cell_type": "markdown",
   "metadata": {},
   "source": [
    "# Práctico 7\n",
    "\n",
    "## 1. Nivel de Aplicación\n",
    "\n",
    "* a\n",
    "\n",
    "## 2. DES\n",
    "\n",
    "* Data Encryption Standard\n",
    "* Clave Secreta\n",
    "* 19\n",
    "* 64 bits\n",
    "* 64 bits\n",
    "\n",
    "## 3. RSA\n",
    "\n",
    "* Rivest, Shamir, Adleman\n",
    "* Clave Pública\n",
    "* Con clave privada, con clave pública\n",
    "* Puede emplearse para firmas digitales\n",
    "\n",
    "## 4. Concepto de DNS\n",
    "\n",
    "* Domain Name System - Sistema de nomenclatura jerárquico descentralizado. Se ocupa de traducir los nombres de dominio a direcciones de red IP en Internet\n",
    "\n",
    "## 5. Concepto de WWW\n",
    "\n",
    "* World Wide Web\n",
    "\n",
    "## 6. Dominios\n",
    "\n",
    "* Genéricos o de País\n",
    "* 63\n",
    "* Controla\n",
    "* 255\n",
    "\n",
    "## 7. ¿Para qué se emplea SNMP?\n",
    "\n",
    "Administrador de redes en internet\n",
    "\n",
    "## 8. Email\n",
    "\n",
    "* Proceso de Capa de Aplicación\n",
    "* RFC 821 822\n",
    "\n",
    "## 9. MIME\n",
    "\n",
    "Formato RFC 822\n",
    "\n",
    "## 10. POP 3\n",
    "\n",
    "* Post Office Protocol 3\n",
    "* b\n",
    "\n",
    "## 11. Web Browser\n",
    "\n",
    "* Web Client\n",
    "\n"
   ]
  }
 ],
 "metadata": {
  "kernelspec": {
   "display_name": "Python 3",
   "language": "python",
   "name": "python3"
  },
  "language_info": {
   "codemirror_mode": {
    "name": "ipython",
    "version": 3
   },
   "file_extension": ".py",
   "mimetype": "text/x-python",
   "name": "python",
   "nbconvert_exporter": "python",
   "pygments_lexer": "ipython3",
   "version": "3.5.2"
  }
 },
 "nbformat": 4,
 "nbformat_minor": 0
}
