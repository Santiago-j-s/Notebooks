{
 "metadata": {
  "name": "",
  "signature": "sha256:67791d75318339d49ceb073c2d1f6629ccd479241d2eea7297e8c3eb5ed2be9f"
 },
 "nbformat": 3,
 "nbformat_minor": 0,
 "worksheets": [
  {
   "cells": [
    {
     "cell_type": "markdown",
     "metadata": {},
     "source": [
      "# Pr\u00e1ctico 7\n",
      "\n",
      "## 1. Nivel de Aplicaci\u00f3n\n",
      "\n",
      "* a\n",
      "\n",
      "## 2. DES\n",
      "\n",
      "* Data Encryption Standard\n",
      "* Clave Secreta\n",
      "* 19\n",
      "* 64 bits\n",
      "* 64 bits\n",
      "\n",
      "## 3. RSA\n",
      "\n",
      "* Rivest, Shamir, Adleman\n",
      "* Clave P\u00fablica\n",
      "* Con clave privada, con clave p\u00fablica\n",
      "* Puede emplearse para firmas digitales\n",
      "\n",
      "## 4. Concepto de DNS\n",
      "\n",
      "* Domain Name System - Sistema de nomenclatura jer\u00e1rquico descentralizado. Se ocupa de traducir los nombres de dominio a direcciones de red IP en Internet\n",
      "\n",
      "## 5. Concepto de WWW\n",
      "\n",
      "* World Wide Web\n",
      "\n",
      "## 6. Dominios\n",
      "\n",
      "* Gen\u00e9ricos o de Pa\u00eds\n",
      "* 63\n",
      "* Controla\n",
      "* 255\n",
      "\n",
      "## 7. \u00bfPara qu\u00e9 se emplea SNMP?\n",
      "\n",
      "Administrador de redes en internet\n",
      "\n",
      "## 8. Email\n",
      "\n",
      "* Proceso de Capa de Aplicaci\u00f3n\n",
      "* RFC 821 822\n",
      "\n",
      "## 9. MIME\n",
      "\n",
      "Formato RFC 822\n",
      "\n",
      "## 10. POP 3\n",
      "\n",
      "* Post Office Protocol 3\n",
      "* b\n",
      "\n",
      "## 11. Web Browser\n",
      "\n",
      "* Web Client\n",
      "\n"
     ]
    }
   ],
   "metadata": {}
  }
 ]
}