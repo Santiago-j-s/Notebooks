{
 "cells": [
  {
   "cell_type": "markdown",
   "metadata": {
    "slideshow": {
     "slide_type": "slide"
    }
   },
   "source": [
    "# Control de versiones con Git"
   ]
  },
  {
   "cell_type": "markdown",
   "metadata": {
    "slideshow": {
     "slide_type": "slide"
    }
   },
   "source": [
    "## ¿Por qué es importante el control de versiones?"
   ]
  },
  {
   "cell_type": "markdown",
   "metadata": {
    "slideshow": {
     "slide_type": "subslide"
    }
   },
   "source": [
    "### ¿Qué es Git?\n",
    "<img src=\"xkcd.git\" />"
   ]
  },
  {
   "cell_type": "code",
   "execution_count": 3,
   "metadata": {
    "slideshow": {
     "slide_type": "notes"
    }
   },
   "outputs": [],
   "source": [
    "# - Esto es git. Permite administrar el trabajo colaborativo en proyectos mediante un hermoso\n",
    "# modelo de árbol distribuido basado en la teoría de grafos.\n",
    "\n",
    "# - Genial ¿y como se usa?\n",
    "\n",
    "# - Ni idea. Solo memoriza estos comandos de terminal y usalos cuando quieras sincronizar.\n",
    "# - Si tienes algún error guarda tu trabajo en otro lado, borra el proyecto y descarga una copia nueva.\n",
    "\n",
    "# Contar un poco de la historia de git\n",
    "# Torvalds, Linux, BitKeeper, Mercurial, Software Libre, etc.\n",
    "\n",
    "# Explicar la diferencia entre un sistema de control de versiones *distribuido* y uno *centralizado* (SVN)\n",
    "# Ventajas, desventajas\n",
    "\n",
    "# Posibles otros temas a mencionar (Didn't know, me falta investigar más):\n",
    "# ¿Mencionar monorepos?\n",
    "# Explicar diferencias entre guardar diffs (SVN) y guardar snapshots (Git, Mercurial)"
   ]
  },
  {
   "cell_type": "markdown",
   "metadata": {
    "slideshow": {
     "slide_type": "slide"
    }
   },
   "source": [
    "### Creando un nuevo repositorio\n",
    "```bash\n",
    "> mkdir repo\n",
    "> cd repo\n",
    "> git init\n",
    "```"
   ]
  },
  {
   "cell_type": "markdown",
   "metadata": {},
   "source": [
    "## Conceptos\n",
    "* Push\n",
    "* Commit\n",
    "* Pull Request\n",
    "* Branches\n",
    "* Conflictos\n"
   ]
  },
  {
   "cell_type": "markdown",
   "metadata": {
    "slideshow": {
     "slide_type": "slide"
    }
   },
   "source": [
    "## ¡A tener en cuenta!\n",
    "\n",
    "* Nunca pushear a master\n",
    "* Cuidado con la información privada\n"
   ]
  },
  {
   "cell_type": "markdown",
   "metadata": {},
   "source": [
    "# Nunca pushear a master"
   ]
  },
  {
   "cell_type": "code",
   "execution_count": null,
   "metadata": {},
   "outputs": [],
   "source": []
  }
 ],
 "metadata": {
  "celltoolbar": "Slideshow",
  "kernelspec": {
   "display_name": "Python 3",
   "language": "python",
   "name": "python3"
  },
  "language_info": {
   "codemirror_mode": {
    "name": "ipython",
    "version": 3
   },
   "file_extension": ".py",
   "mimetype": "text/x-python",
   "name": "python",
   "nbconvert_exporter": "python",
   "pygments_lexer": "ipython3",
   "version": "3.5.2"
  }
 },
 "nbformat": 4,
 "nbformat_minor": 2
}
