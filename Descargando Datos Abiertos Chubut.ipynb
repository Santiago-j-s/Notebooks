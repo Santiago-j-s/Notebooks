{
 "cells": [
  {
   "cell_type": "code",
   "execution_count": 17,
   "metadata": {
    "collapsed": true
   },
   "outputs": [],
   "source": [
    "import requests\n",
    "import json"
   ]
  },
  {
   "cell_type": "code",
   "execution_count": 18,
   "metadata": {
    "collapsed": false
   },
   "outputs": [],
   "source": [
    "s = requests.Session()\n",
    "response = s.get('http://datos.chubut.gov.ar/api/3/action/package_list')"
   ]
  },
  {
   "cell_type": "code",
   "execution_count": 19,
   "metadata": {
    "collapsed": false
   },
   "outputs": [],
   "source": [
    "package_list = response.json()['result']\n",
    "for package in package_list:\n",
    "    package_data = s.get(''.join(['http://datos.chubut.gov.ar/api/3/action/package_show?id=', package]))\n",
    "    recursos = package_data.json()['result']['resources']\n",
    "    for recurso in recursos:\n",
    "        filename = ''.join([recurso['name'], '.', recurso['format'].lower()]) \n",
    "        r = s.get(recurso['url'])\n",
    "        with open(filename, 'xb')  as f:\n",
    "            for chunk in r.iter_content(chunk_size=512*1024):\n",
    "                if chunk:\n",
    "                    f.write(chunk)"
   ]
  }
 ],
 "metadata": {
  "kernelspec": {
   "display_name": "Python 3",
   "language": "python",
   "name": "python3"
  },
  "language_info": {
   "codemirror_mode": {
    "name": "ipython",
    "version": 3
   },
   "file_extension": ".py",
   "mimetype": "text/x-python",
   "name": "python",
   "nbconvert_exporter": "python",
   "pygments_lexer": "ipython3",
   "version": "3.5.2"
  }
 },
 "nbformat": 4,
 "nbformat_minor": 2
}
